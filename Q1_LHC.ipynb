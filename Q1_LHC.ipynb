{
  "nbformat": 4,
  "nbformat_minor": 0,
  "metadata": {
    "colab": {
      "name": "Q1_LHC.ipynb",
      "provenance": [],
      "collapsed_sections": []
    },
    "kernelspec": {
      "name": "python3",
      "display_name": "Python 3"
    },
    "language_info": {
      "name": "python"
    }
  },
  "cells": [
    {
      "cell_type": "code",
      "execution_count": 28,
      "metadata": {
        "id": "jwqPVrgHFhNb"
      },
      "outputs": [],
      "source": [
        "#importing basic libraries\n",
        "import numpy as np\n",
        "import pandas as pd\n",
        "import matplotlib.pyplot as plt"
      ]
    },
    {
      "cell_type": "code",
      "source": [
        "from google.colab import drive"
      ],
      "metadata": {
        "id": "LzQwGDfRFpbJ"
      },
      "execution_count": 2,
      "outputs": []
    },
    {
      "cell_type": "code",
      "source": [
        "drive.mount('/content/drive/')"
      ],
      "metadata": {
        "colab": {
          "base_uri": "https://localhost:8080/"
        },
        "id": "dkUrsNxrFzsU",
        "outputId": "b119a4dc-8cd0-47c8-bd9b-bae140eb15a9"
      },
      "execution_count": 5,
      "outputs": [
        {
          "output_type": "stream",
          "name": "stdout",
          "text": [
            "Drive already mounted at /content/drive/; to attempt to forcibly remount, call drive.mount(\"/content/drive/\", force_remount=True).\n"
          ]
        }
      ]
    },
    {
      "cell_type": "code",
      "source": [
        "cd /content/drive/\"MyDrive/\""
      ],
      "metadata": {
        "colab": {
          "base_uri": "https://localhost:8080/"
        },
        "id": "5VFwHNTLF2dY",
        "outputId": "a460a792-c21a-4a63-8aea-38f082494468"
      },
      "execution_count": 6,
      "outputs": [
        {
          "output_type": "stream",
          "name": "stdout",
          "text": [
            "/content/drive/MyDrive\n"
          ]
        }
      ]
    },
    {
      "cell_type": "code",
      "source": [
        "dataset = pd.read_csv(\"/content/drive/MyDrive/LHC- ML/posts_short.csv\")"
      ],
      "metadata": {
        "id": "uB1xlZn9HT5N",
        "colab": {
          "base_uri": "https://localhost:8080/"
        },
        "outputId": "b31b0ffb-0854-427f-f09a-5ab54dbe9b52"
      },
      "execution_count": 11,
      "outputs": [
        {
          "output_type": "stream",
          "name": "stderr",
          "text": [
            "/usr/local/lib/python3.7/dist-packages/IPython/core/interactiveshell.py:2882: DtypeWarning: Columns (13) have mixed types.Specify dtype option on import or set low_memory=False.\n",
            "  exec(code_obj, self.user_global_ns, self.user_ns)\n"
          ]
        }
      ]
    },
    {
      "cell_type": "code",
      "source": [
        "dataset"
      ],
      "metadata": {
        "id": "MjYgO1IoJWtA"
      },
      "execution_count": null,
      "outputs": []
    },
    {
      "cell_type": "code",
      "source": [
        "dataset.shape"
      ],
      "metadata": {
        "colab": {
          "base_uri": "https://localhost:8080/"
        },
        "id": "55K7G-rkKL2T",
        "outputId": "ab1f7138-2c02-424d-db76-4c656cb51a92"
      },
      "execution_count": 30,
      "outputs": [
        {
          "output_type": "execute_result",
          "data": {
            "text/plain": [
              "(676204, 14)"
            ]
          },
          "metadata": {},
          "execution_count": 30
        }
      ]
    },
    {
      "cell_type": "code",
      "source": [
        "type(dataset)"
      ],
      "metadata": {
        "colab": {
          "base_uri": "https://localhost:8080/"
        },
        "id": "S4kxzdJeKN4I",
        "outputId": "eb72b074-ec7c-4bc6-b935-13138273c7e7"
      },
      "execution_count": 31,
      "outputs": [
        {
          "output_type": "execute_result",
          "data": {
            "text/plain": [
              "pandas.core.frame.DataFrame"
            ]
          },
          "metadata": {},
          "execution_count": 31
        }
      ]
    },
    {
      "cell_type": "code",
      "source": [
        "dataset= pd.DataFrame(dataset)"
      ],
      "metadata": {
        "id": "qBaAagtEKQh6"
      },
      "execution_count": 32,
      "outputs": []
    },
    {
      "cell_type": "code",
      "source": [
        "dataset.describe()"
      ],
      "metadata": {
        "colab": {
          "base_uri": "https://localhost:8080/",
          "height": 300
        },
        "id": "U0A046B7KT6N",
        "outputId": "d1b90464-0916-48eb-fc7c-2dfef3eb9098"
      },
      "execution_count": 33,
      "outputs": [
        {
          "output_type": "execute_result",
          "data": {
            "text/plain": [
              "          Unnamed: 0            id  post_type_id  accepted_answer_id  \\\n",
              "count  676204.000000  6.762040e+05      676204.0        6.762040e+05   \n",
              "mean   338101.500000  2.584291e+07           1.0        1.166794e+07   \n",
              "std    195203.425051  1.586292e+07           0.0        1.531875e+07   \n",
              "min         0.000000  4.000000e+00           1.0       -9.990000e+02   \n",
              "25%    169050.750000  1.170959e+07           1.0       -9.990000e+02   \n",
              "50%    338101.500000  2.566376e+07           1.0        2.574750e+06   \n",
              "75%    507152.250000  3.999613e+07           1.0        2.095320e+07   \n",
              "max    676203.000000  5.213412e+07           1.0        5.213268e+07   \n",
              "\n",
              "       parent_id          score    view_count  owner_user_id   answer_count  \\\n",
              "count   676204.0  676204.000000  6.762040e+05   6.762040e+05  676204.000000   \n",
              "mean      -999.0      14.731906  1.549030e+04   2.891993e+06       2.415215   \n",
              "std          0.0      97.924320  7.056748e+04   2.703980e+06       3.403235   \n",
              "min       -999.0    -146.000000  3.000000e+00  -9.990000e+02       0.000000   \n",
              "25%       -999.0       0.000000  6.400000e+01   6.399082e+05       1.000000   \n",
              "50%       -999.0       1.000000  4.880000e+02   1.952811e+06       2.000000   \n",
              "75%       -999.0       5.000000  5.694000e+03   4.648680e+06       3.000000   \n",
              "max       -999.0   21775.000000  6.842435e+06   1.030524e+07     518.000000   \n",
              "\n",
              "       comment_count  favorite_count  \n",
              "count  676204.000000   676204.000000  \n",
              "mean        2.547613        5.042214  \n",
              "std         2.914937       44.758421  \n",
              "min         0.000000        0.000000  \n",
              "25%         0.000000        0.000000  \n",
              "50%         2.000000        0.000000  \n",
              "75%         4.000000        1.000000  \n",
              "max        70.000000     9977.000000  "
            ],
            "text/html": [
              "\n",
              "  <div id=\"df-7b64aa23-01fd-41eb-a156-21896f5d1314\">\n",
              "    <div class=\"colab-df-container\">\n",
              "      <div>\n",
              "<style scoped>\n",
              "    .dataframe tbody tr th:only-of-type {\n",
              "        vertical-align: middle;\n",
              "    }\n",
              "\n",
              "    .dataframe tbody tr th {\n",
              "        vertical-align: top;\n",
              "    }\n",
              "\n",
              "    .dataframe thead th {\n",
              "        text-align: right;\n",
              "    }\n",
              "</style>\n",
              "<table border=\"1\" class=\"dataframe\">\n",
              "  <thead>\n",
              "    <tr style=\"text-align: right;\">\n",
              "      <th></th>\n",
              "      <th>Unnamed: 0</th>\n",
              "      <th>id</th>\n",
              "      <th>post_type_id</th>\n",
              "      <th>accepted_answer_id</th>\n",
              "      <th>parent_id</th>\n",
              "      <th>score</th>\n",
              "      <th>view_count</th>\n",
              "      <th>owner_user_id</th>\n",
              "      <th>answer_count</th>\n",
              "      <th>comment_count</th>\n",
              "      <th>favorite_count</th>\n",
              "    </tr>\n",
              "  </thead>\n",
              "  <tbody>\n",
              "    <tr>\n",
              "      <th>count</th>\n",
              "      <td>676204.000000</td>\n",
              "      <td>6.762040e+05</td>\n",
              "      <td>676204.0</td>\n",
              "      <td>6.762040e+05</td>\n",
              "      <td>676204.0</td>\n",
              "      <td>676204.000000</td>\n",
              "      <td>6.762040e+05</td>\n",
              "      <td>6.762040e+05</td>\n",
              "      <td>676204.000000</td>\n",
              "      <td>676204.000000</td>\n",
              "      <td>676204.000000</td>\n",
              "    </tr>\n",
              "    <tr>\n",
              "      <th>mean</th>\n",
              "      <td>338101.500000</td>\n",
              "      <td>2.584291e+07</td>\n",
              "      <td>1.0</td>\n",
              "      <td>1.166794e+07</td>\n",
              "      <td>-999.0</td>\n",
              "      <td>14.731906</td>\n",
              "      <td>1.549030e+04</td>\n",
              "      <td>2.891993e+06</td>\n",
              "      <td>2.415215</td>\n",
              "      <td>2.547613</td>\n",
              "      <td>5.042214</td>\n",
              "    </tr>\n",
              "    <tr>\n",
              "      <th>std</th>\n",
              "      <td>195203.425051</td>\n",
              "      <td>1.586292e+07</td>\n",
              "      <td>0.0</td>\n",
              "      <td>1.531875e+07</td>\n",
              "      <td>0.0</td>\n",
              "      <td>97.924320</td>\n",
              "      <td>7.056748e+04</td>\n",
              "      <td>2.703980e+06</td>\n",
              "      <td>3.403235</td>\n",
              "      <td>2.914937</td>\n",
              "      <td>44.758421</td>\n",
              "    </tr>\n",
              "    <tr>\n",
              "      <th>min</th>\n",
              "      <td>0.000000</td>\n",
              "      <td>4.000000e+00</td>\n",
              "      <td>1.0</td>\n",
              "      <td>-9.990000e+02</td>\n",
              "      <td>-999.0</td>\n",
              "      <td>-146.000000</td>\n",
              "      <td>3.000000e+00</td>\n",
              "      <td>-9.990000e+02</td>\n",
              "      <td>0.000000</td>\n",
              "      <td>0.000000</td>\n",
              "      <td>0.000000</td>\n",
              "    </tr>\n",
              "    <tr>\n",
              "      <th>25%</th>\n",
              "      <td>169050.750000</td>\n",
              "      <td>1.170959e+07</td>\n",
              "      <td>1.0</td>\n",
              "      <td>-9.990000e+02</td>\n",
              "      <td>-999.0</td>\n",
              "      <td>0.000000</td>\n",
              "      <td>6.400000e+01</td>\n",
              "      <td>6.399082e+05</td>\n",
              "      <td>1.000000</td>\n",
              "      <td>0.000000</td>\n",
              "      <td>0.000000</td>\n",
              "    </tr>\n",
              "    <tr>\n",
              "      <th>50%</th>\n",
              "      <td>338101.500000</td>\n",
              "      <td>2.566376e+07</td>\n",
              "      <td>1.0</td>\n",
              "      <td>2.574750e+06</td>\n",
              "      <td>-999.0</td>\n",
              "      <td>1.000000</td>\n",
              "      <td>4.880000e+02</td>\n",
              "      <td>1.952811e+06</td>\n",
              "      <td>2.000000</td>\n",
              "      <td>2.000000</td>\n",
              "      <td>0.000000</td>\n",
              "    </tr>\n",
              "    <tr>\n",
              "      <th>75%</th>\n",
              "      <td>507152.250000</td>\n",
              "      <td>3.999613e+07</td>\n",
              "      <td>1.0</td>\n",
              "      <td>2.095320e+07</td>\n",
              "      <td>-999.0</td>\n",
              "      <td>5.000000</td>\n",
              "      <td>5.694000e+03</td>\n",
              "      <td>4.648680e+06</td>\n",
              "      <td>3.000000</td>\n",
              "      <td>4.000000</td>\n",
              "      <td>1.000000</td>\n",
              "    </tr>\n",
              "    <tr>\n",
              "      <th>max</th>\n",
              "      <td>676203.000000</td>\n",
              "      <td>5.213412e+07</td>\n",
              "      <td>1.0</td>\n",
              "      <td>5.213268e+07</td>\n",
              "      <td>-999.0</td>\n",
              "      <td>21775.000000</td>\n",
              "      <td>6.842435e+06</td>\n",
              "      <td>1.030524e+07</td>\n",
              "      <td>518.000000</td>\n",
              "      <td>70.000000</td>\n",
              "      <td>9977.000000</td>\n",
              "    </tr>\n",
              "  </tbody>\n",
              "</table>\n",
              "</div>\n",
              "      <button class=\"colab-df-convert\" onclick=\"convertToInteractive('df-7b64aa23-01fd-41eb-a156-21896f5d1314')\"\n",
              "              title=\"Convert this dataframe to an interactive table.\"\n",
              "              style=\"display:none;\">\n",
              "        \n",
              "  <svg xmlns=\"http://www.w3.org/2000/svg\" height=\"24px\"viewBox=\"0 0 24 24\"\n",
              "       width=\"24px\">\n",
              "    <path d=\"M0 0h24v24H0V0z\" fill=\"none\"/>\n",
              "    <path d=\"M18.56 5.44l.94 2.06.94-2.06 2.06-.94-2.06-.94-.94-2.06-.94 2.06-2.06.94zm-11 1L8.5 8.5l.94-2.06 2.06-.94-2.06-.94L8.5 2.5l-.94 2.06-2.06.94zm10 10l.94 2.06.94-2.06 2.06-.94-2.06-.94-.94-2.06-.94 2.06-2.06.94z\"/><path d=\"M17.41 7.96l-1.37-1.37c-.4-.4-.92-.59-1.43-.59-.52 0-1.04.2-1.43.59L10.3 9.45l-7.72 7.72c-.78.78-.78 2.05 0 2.83L4 21.41c.39.39.9.59 1.41.59.51 0 1.02-.2 1.41-.59l7.78-7.78 2.81-2.81c.8-.78.8-2.07 0-2.86zM5.41 20L4 18.59l7.72-7.72 1.47 1.35L5.41 20z\"/>\n",
              "  </svg>\n",
              "      </button>\n",
              "      \n",
              "  <style>\n",
              "    .colab-df-container {\n",
              "      display:flex;\n",
              "      flex-wrap:wrap;\n",
              "      gap: 12px;\n",
              "    }\n",
              "\n",
              "    .colab-df-convert {\n",
              "      background-color: #E8F0FE;\n",
              "      border: none;\n",
              "      border-radius: 50%;\n",
              "      cursor: pointer;\n",
              "      display: none;\n",
              "      fill: #1967D2;\n",
              "      height: 32px;\n",
              "      padding: 0 0 0 0;\n",
              "      width: 32px;\n",
              "    }\n",
              "\n",
              "    .colab-df-convert:hover {\n",
              "      background-color: #E2EBFA;\n",
              "      box-shadow: 0px 1px 2px rgba(60, 64, 67, 0.3), 0px 1px 3px 1px rgba(60, 64, 67, 0.15);\n",
              "      fill: #174EA6;\n",
              "    }\n",
              "\n",
              "    [theme=dark] .colab-df-convert {\n",
              "      background-color: #3B4455;\n",
              "      fill: #D2E3FC;\n",
              "    }\n",
              "\n",
              "    [theme=dark] .colab-df-convert:hover {\n",
              "      background-color: #434B5C;\n",
              "      box-shadow: 0px 1px 3px 1px rgba(0, 0, 0, 0.15);\n",
              "      filter: drop-shadow(0px 1px 2px rgba(0, 0, 0, 0.3));\n",
              "      fill: #FFFFFF;\n",
              "    }\n",
              "  </style>\n",
              "\n",
              "      <script>\n",
              "        const buttonEl =\n",
              "          document.querySelector('#df-7b64aa23-01fd-41eb-a156-21896f5d1314 button.colab-df-convert');\n",
              "        buttonEl.style.display =\n",
              "          google.colab.kernel.accessAllowed ? 'block' : 'none';\n",
              "\n",
              "        async function convertToInteractive(key) {\n",
              "          const element = document.querySelector('#df-7b64aa23-01fd-41eb-a156-21896f5d1314');\n",
              "          const dataTable =\n",
              "            await google.colab.kernel.invokeFunction('convertToInteractive',\n",
              "                                                     [key], {});\n",
              "          if (!dataTable) return;\n",
              "\n",
              "          const docLinkHtml = 'Like what you see? Visit the ' +\n",
              "            '<a target=\"_blank\" href=https://colab.research.google.com/notebooks/data_table.ipynb>data table notebook</a>'\n",
              "            + ' to learn more about interactive tables.';\n",
              "          element.innerHTML = '';\n",
              "          dataTable['output_type'] = 'display_data';\n",
              "          await google.colab.output.renderOutput(dataTable, element);\n",
              "          const docLink = document.createElement('div');\n",
              "          docLink.innerHTML = docLinkHtml;\n",
              "          element.appendChild(docLink);\n",
              "        }\n",
              "      </script>\n",
              "    </div>\n",
              "  </div>\n",
              "  "
            ]
          },
          "metadata": {},
          "execution_count": 33
        }
      ]
    },
    {
      "cell_type": "code",
      "source": [
        "col = list(dataset.columns.values)\n",
        "print(col)"
      ],
      "metadata": {
        "colab": {
          "base_uri": "https://localhost:8080/"
        },
        "id": "Btf6svx9KZaJ",
        "outputId": "1febafda-cfd5-47a8-c186-56cd69a30dfd"
      },
      "execution_count": 34,
      "outputs": [
        {
          "output_type": "stream",
          "name": "stdout",
          "text": [
            "['Unnamed: 0', 'id', 'post_type_id', 'accepted_answer_id', 'parent_id', 'creation_date', 'score', 'view_count', 'owner_user_id', 'tags', 'answer_count', 'comment_count', 'favorite_count', 'community_owned_date']\n"
          ]
        }
      ]
    },
    {
      "cell_type": "code",
      "source": [
        "dataset['tags']"
      ],
      "metadata": {
        "colab": {
          "base_uri": "https://localhost:8080/"
        },
        "id": "NJheYjJrlMQ5",
        "outputId": "afbc81aa-7c56-4381-ffea-a90adfc6d78e"
      },
      "execution_count": 35,
      "outputs": [
        {
          "output_type": "execute_result",
          "data": {
            "text/plain": [
              "0         <c#><floating-point><type-conversion><double><...\n",
              "1                    <html><css><css3><internet-explorer-7>\n",
              "2                                      <c#><.net><datetime>\n",
              "3         <c#><datetime><time><datediff><relative-time-s...\n",
              "4         <javascript><html><browser><timezone><timezone...\n",
              "                                ...                        \n",
              "676199                                     <python><import>\n",
              "676200                     <java><firebase><android-studio>\n",
              "676201                                                  <c>\n",
              "676202                           <angularjs><node.js><ajax>\n",
              "676203                                          <php><html>\n",
              "Name: tags, Length: 676204, dtype: object"
            ]
          },
          "metadata": {},
          "execution_count": 35
        }
      ]
    },
    {
      "cell_type": "code",
      "source": [
        "j = []\n",
        "for i in dataset['tags']:\n",
        "  j.append(i.split(\">\"))\n",
        "  #j.append(x)"
      ],
      "metadata": {
        "id": "fdSdgVEaktQG"
      },
      "execution_count": 36,
      "outputs": []
    },
    {
      "cell_type": "code",
      "source": [
        "l = []\n",
        "for k in range(len(j)):\n",
        "  l.append(len(j[k])-1)"
      ],
      "metadata": {
        "id": "Kq_z8BZXmdUD"
      },
      "execution_count": 37,
      "outputs": []
    },
    {
      "cell_type": "code",
      "source": [
        "df = pd.DataFrame(l)"
      ],
      "metadata": {
        "id": "IDPBIAqSo7OO"
      },
      "execution_count": 39,
      "outputs": []
    },
    {
      "cell_type": "code",
      "source": [
        "df.plot(figsize=(8,8))"
      ],
      "metadata": {
        "colab": {
          "base_uri": "https://localhost:8080/",
          "height": 500
        },
        "id": "GiQCh8Uqm2iU",
        "outputId": "305222b5-149e-4038-b6d4-d821b7dec877"
      },
      "execution_count": 46,
      "outputs": [
        {
          "output_type": "execute_result",
          "data": {
            "text/plain": [
              "<matplotlib.axes._subplots.AxesSubplot at 0x7fb149758ed0>"
            ]
          },
          "metadata": {},
          "execution_count": 46
        },
        {
          "output_type": "display_data",
          "data": {
            "text/plain": [
              "<Figure size 576x576 with 1 Axes>"
            ],
            "image/png": "[encoded data removed]"
          },
          "metadata": {
            "needs_background": "light"
          }
        }
      ]
    },
    {
      "cell_type": "code",
      "source": [
        "from matplotlib import pyplot as plt\n",
        "import numpy as np\n",
        " \n",
        "a = np.array(l)\n",
        "b = np.array(dataset.index)\n",
        " \n",
        "fig, ax = plt.subplots(figsize =(8,8))\n",
        "ax.hist(a, bins = 20)\n",
        "\n",
        "plt.title(\"Number of Tags Per Question\")\n",
        "plt.xlabel(\"Number of Tags\")\n",
        "plt.ylabel(\"Number of Questions\")\n",
        "plt.show()"
      ],
      "metadata": {
        "colab": {
          "base_uri": "https://localhost:8080/",
          "height": 513
        },
        "id": "jKFfvm2InJtB",
        "outputId": "5a1355e8-68b2-4e13-9867-0362f9c01251"
      },
      "execution_count": 49,
      "outputs": [
        {
          "output_type": "display_data",
          "data": {
            "text/plain": [
              "<Figure size 576x576 with 1 Axes>"
            ],
            "image/png": "[encoded data removed]"
          },
          "metadata": {
            "needs_background": "light"
          }
        }
      ]
    }
  ]
}